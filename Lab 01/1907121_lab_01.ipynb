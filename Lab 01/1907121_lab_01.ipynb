{
  "nbformat": 4,
  "nbformat_minor": 0,
  "metadata": {
    "colab": {
      "provenance": []
    },
    "kernelspec": {
      "name": "python3",
      "display_name": "Python 3"
    },
    "language_info": {
      "name": "python"
    }
  },
  "cells": [
    {
      "cell_type": "markdown",
      "source": [
        "**Introduction to Python**"
      ],
      "metadata": {
        "id": "1Th0Ng8cIilf"
      }
    },
    {
      "cell_type": "code",
      "source": [
        "var = 12234723424893274838423847328838328*pow(1222,121)"
      ],
      "metadata": {
        "id": "hdD8g1PmI0bG"
      },
      "execution_count": null,
      "outputs": []
    },
    {
      "cell_type": "code",
      "source": [
        "print(var)\n",
        "print(type(var))\n",
        "print(len(str(var)))"
      ],
      "metadata": {
        "colab": {
          "base_uri": "https://localhost:8080/"
        },
        "id": "yWe2Mt0rJd3k",
        "outputId": "e3dc14eb-0eaa-4ba9-bbc7-0f1ac67d6a02"
      },
      "execution_count": null,
      "outputs": [
        {
          "output_type": "stream",
          "name": "stdout",
          "text": [
            "419962073131020067180802398980218284153691668030668616532266992596039886903549395949392520484565745537422776018919401034999169142062963271918186028420454531379075252938171623307213169503014999901691458814749361500238682260313036837163313526823519120930907121241936088396117580173130142694193900186105604630577038976130292493272174922634904744670223713633489718209686868451552134832703864618902970221740425216\n",
            "<class 'int'>\n",
            "408\n"
          ]
        }
      ]
    },
    {
      "cell_type": "code",
      "source": [
        "x = input(\"Enter a value: \")"
      ],
      "metadata": {
        "colab": {
          "base_uri": "https://localhost:8080/"
        },
        "id": "gcFDAoPILCBd",
        "outputId": "d321f8b2-941a-407c-ed1b-6abaa44f8835"
      },
      "execution_count": null,
      "outputs": [
        {
          "name": "stdout",
          "output_type": "stream",
          "text": [
            "Enter a value: 100\n"
          ]
        }
      ]
    },
    {
      "cell_type": "code",
      "source": [
        "print(int(x)+10)"
      ],
      "metadata": {
        "colab": {
          "base_uri": "https://localhost:8080/"
        },
        "id": "giPTakxrLGvf",
        "outputId": "4f96617e-bdad-4dee-e321-76755062d7a2"
      },
      "execution_count": null,
      "outputs": [
        {
          "output_type": "stream",
          "name": "stdout",
          "text": [
            "110\n"
          ]
        }
      ]
    },
    {
      "cell_type": "markdown",
      "source": [
        "Conditional Statement"
      ],
      "metadata": {
        "id": "c5RekZCaNwkU"
      }
    },
    {
      "cell_type": "code",
      "source": [
        "a = 500\n",
        "if (a<200):\n",
        "  print(\"a is smaller than 200\")\n",
        "elif (a==200):\n",
        "  print(\"a is equal to 200\")\n",
        "else:\n",
        "  print(\"x is greater than 200\")\n",
        "  if a<1000 and a>300:\n",
        "    print(\"nested\")"
      ],
      "metadata": {
        "colab": {
          "base_uri": "https://localhost:8080/"
        },
        "id": "AODYJtVHLbwQ",
        "outputId": "5acfb284-b1aa-46b3-a782-7212fc60ce53"
      },
      "execution_count": null,
      "outputs": [
        {
          "output_type": "stream",
          "name": "stdout",
          "text": [
            "x is greater than 200\n",
            "nested\n"
          ]
        }
      ]
    },
    {
      "cell_type": "markdown",
      "source": [
        "Array"
      ],
      "metadata": {
        "id": "Z4xRm2xlc4_p"
      }
    },
    {
      "cell_type": "code",
      "source": [
        "arr= [1,5,2,3,4]\n",
        "print(arr)\n",
        "for i in range(len(arr)):\n",
        "  print(i,\":\", end=\" \")\n",
        "  print(arr[i])\n",
        "for i in arr:\n",
        "  print(i, end=\" \")\n",
        "print()\n",
        "arr.pop(1)\n",
        "print(arr)\n",
        "arr.insert(1,5)\n",
        "print(arr)\n",
        "arr.append(19)\n",
        "print(arr)\n",
        "arr.sort()\n",
        "print(arr)\n",
        "arr.sort(reverse=True)\n",
        "print(arr)"
      ],
      "metadata": {
        "colab": {
          "base_uri": "https://localhost:8080/"
        },
        "id": "POoperMhc7Sg",
        "outputId": "50bfdbfc-e18b-48ac-f20f-aecf89a9a9ed"
      },
      "execution_count": null,
      "outputs": [
        {
          "output_type": "stream",
          "name": "stdout",
          "text": [
            "[1, 5, 2, 3, 4]\n",
            "0 : 1\n",
            "1 : 5\n",
            "2 : 2\n",
            "3 : 3\n",
            "4 : 4\n",
            "1 5 2 3 4 \n",
            "[1, 2, 3, 4]\n",
            "[1, 5, 2, 3, 4]\n",
            "[1, 5, 2, 3, 4, 19]\n",
            "[1, 2, 3, 4, 5, 19]\n",
            "[19, 5, 4, 3, 2, 1]\n"
          ]
        }
      ]
    },
    {
      "cell_type": "markdown",
      "source": [
        "List"
      ],
      "metadata": {
        "id": "a9Y_fzapN3xT"
      }
    },
    {
      "cell_type": "code",
      "source": [
        "ll = [4,1,2,3.5]\n",
        "print(ll)\n",
        "print(ll[0])"
      ],
      "metadata": {
        "colab": {
          "base_uri": "https://localhost:8080/"
        },
        "id": "9njzV17CN5ge",
        "outputId": "1720ac6d-d9d7-48d0-b837-1a78b8c7c84e"
      },
      "execution_count": null,
      "outputs": [
        {
          "output_type": "stream",
          "name": "stdout",
          "text": [
            "[4, 1, 2, 3.5]\n",
            "4\n"
          ]
        }
      ]
    },
    {
      "cell_type": "markdown",
      "source": [
        "Comment\n",
        "single by #\n",
        "multiple by start with ''' hi ''' or \"\"\" hello \"\"\""
      ],
      "metadata": {
        "id": "YwaIp2VoOTm5"
      }
    },
    {
      "cell_type": "code",
      "source": [
        "# print(ll)\n",
        "print(ll[0])\n",
        "''' print(ll[1])\n",
        "print(ll[2]) '''\n",
        "print(ll[3])"
      ],
      "metadata": {
        "colab": {
          "base_uri": "https://localhost:8080/"
        },
        "id": "XLqkPOxUOfL6",
        "outputId": "ce59bff2-0199-4c0e-9dac-d8284c4690f2"
      },
      "execution_count": null,
      "outputs": [
        {
          "output_type": "stream",
          "name": "stdout",
          "text": [
            "4\n",
            "3.5\n"
          ]
        }
      ]
    },
    {
      "cell_type": "markdown",
      "source": [
        "Data *structure*"
      ],
      "metadata": {
        "id": "d92aq7srOxME"
      }
    },
    {
      "cell_type": "code",
      "source": [
        "ll.append(20)\n",
        "print(ll)"
      ],
      "metadata": {
        "colab": {
          "base_uri": "https://localhost:8080/"
        },
        "id": "iZtCCK1TOzxp",
        "outputId": "7fa0c936-e14c-4433-e134-3a1d9c3007e8"
      },
      "execution_count": null,
      "outputs": [
        {
          "output_type": "stream",
          "name": "stdout",
          "text": [
            "[4, 1, 2, 3.5, 20]\n"
          ]
        }
      ]
    },
    {
      "cell_type": "code",
      "source": [
        "ll.sort()\n",
        "print(ll)\n",
        "ll.sort(reverse=True)\n",
        "print(ll)"
      ],
      "metadata": {
        "colab": {
          "base_uri": "https://localhost:8080/"
        },
        "id": "bP5S9nITPGFf",
        "outputId": "3da695d4-a90e-49ed-eb80-940577fea6f7"
      },
      "execution_count": null,
      "outputs": [
        {
          "output_type": "stream",
          "name": "stdout",
          "text": [
            "[1, 2, 3.5, 4, 20]\n",
            "[20, 4, 3.5, 2, 1]\n"
          ]
        }
      ]
    },
    {
      "cell_type": "markdown",
      "source": [
        "Map or Dictionary"
      ],
      "metadata": {
        "id": "3oA2TSFUPpHM"
      }
    },
    {
      "cell_type": "code",
      "source": [
        "dictionary = {\"pkd\":[\"alu\",\"potol\"], \"doniel\":121, \"nd\":{1:2,2:3,3:4}}\n",
        "print(dictionary)\n",
        "print(dictionary[\"pkd\"])\n",
        "print(dictionary[\"doniel\"])\n",
        "print(dictionary[\"nd\"][2])"
      ],
      "metadata": {
        "colab": {
          "base_uri": "https://localhost:8080/"
        },
        "id": "2Vpex-H8Pr8s",
        "outputId": "aec9e28f-a339-4ffb-ba78-87e0e7cef9e3"
      },
      "execution_count": null,
      "outputs": [
        {
          "output_type": "stream",
          "name": "stdout",
          "text": [
            "{'pkd': ['alu', 'potol'], 'doniel': 121, 'nd': {1: 2, 2: 3, 3: 4}}\n",
            "['alu', 'potol']\n",
            "121\n",
            "3\n"
          ]
        }
      ]
    },
    {
      "cell_type": "markdown",
      "source": [
        "Loop (while, for)"
      ],
      "metadata": {
        "id": "8NJZLAmqQ8vj"
      }
    },
    {
      "cell_type": "code",
      "source": [
        "i = 0\n",
        "while i<10:\n",
        "  print(i, end = \" \") # by default end=\"newline\"\n",
        "  i+=1"
      ],
      "metadata": {
        "colab": {
          "base_uri": "https://localhost:8080/"
        },
        "id": "dti8EVMdQ8PS",
        "outputId": "1208356a-8f90-460c-b777-82871afa4614"
      },
      "execution_count": null,
      "outputs": [
        {
          "output_type": "stream",
          "name": "stdout",
          "text": [
            "0 1 2 3 4 5 6 7 8 9 "
          ]
        }
      ]
    },
    {
      "cell_type": "code",
      "source": [
        "for i in 1,2,3,4,5: # works on data structure like list\n",
        "  print(i, end = \" \")\n",
        "print()\n",
        "for i in ll:\n",
        "  print(i, end = \" \")\n",
        "print()\n",
        "for i in dictionary:\n",
        "  print(i, end = \" \")\n",
        "print()\n",
        "for i in dictionary:\n",
        "  print(dictionary[i], end = \" \")\n",
        "print()\n",
        "for i in range(20):\n",
        "  print(i, end = \" \")"
      ],
      "metadata": {
        "colab": {
          "base_uri": "https://localhost:8080/"
        },
        "id": "6NzCnRd2R2Cg",
        "outputId": "4889f2a8-b9e2-4649-fc1e-c7f2ad0d60a1"
      },
      "execution_count": null,
      "outputs": [
        {
          "output_type": "stream",
          "name": "stdout",
          "text": [
            "1 2 3 4 5 \n",
            "20 4 3.5 2 1 \n",
            "pkd doniel nd \n",
            "['alu', 'potol'] 121 {1: 2, 2: 3, 3: 4} \n",
            "0 1 2 3 4 5 6 7 8 9 10 11 12 13 14 15 16 17 18 19 "
          ]
        }
      ]
    },
    {
      "cell_type": "markdown",
      "source": [
        "Function"
      ],
      "metadata": {
        "id": "IJUCwF6jSub6"
      }
    },
    {
      "cell_type": "code",
      "source": [
        "def function (a,b):\n",
        "  return a+1,b+2\n",
        "def add (a,b):\n",
        "  return a+b\n",
        "\n",
        "a,b = function(10,20)\n",
        "print(a,b)\n",
        "print(add(a,b))"
      ],
      "metadata": {
        "colab": {
          "base_uri": "https://localhost:8080/"
        },
        "id": "CRk8l86aSuE6",
        "outputId": "9a7e834b-0d01-4b64-c8af-ea7649edc492"
      },
      "execution_count": null,
      "outputs": [
        {
          "output_type": "stream",
          "name": "stdout",
          "text": [
            "11 22\n",
            "33\n"
          ]
        }
      ]
    },
    {
      "cell_type": "markdown",
      "source": [
        "random number"
      ],
      "metadata": {
        "id": "MzdIwS11TnZ1"
      }
    },
    {
      "cell_type": "code",
      "source": [
        "import random\n",
        "for i in range(10):\n",
        "  print(random.randint(0,10), end = \" \")"
      ],
      "metadata": {
        "colab": {
          "base_uri": "https://localhost:8080/"
        },
        "id": "fkdsJb38TqKH",
        "outputId": "0c51aded-2294-4ab3-9f3c-bf629036a65a"
      },
      "execution_count": null,
      "outputs": [
        {
          "output_type": "stream",
          "name": "stdout",
          "text": [
            "1 9 8 4 7 7 2 3 4 0 "
          ]
        }
      ]
    },
    {
      "cell_type": "markdown",
      "source": [
        "Numpy array package"
      ],
      "metadata": {
        "id": "1z1XDQ1mTt6-"
      }
    },
    {
      "cell_type": "code",
      "source": [
        "import numpy\n",
        "mat1 = numpy.array([\n",
        "    [1,2,3],\n",
        "    [4,5,6],\n",
        "    [7,8,9]\n",
        "])\n",
        "mat2 = numpy.array([\n",
        "    [1,2,3],\n",
        "    [4,5,6],\n",
        "    [7,8,9]\n",
        "])\n",
        "mat3=mat1+mat2\n",
        "print(mat3)\n",
        "mat4=mat1-mat2\n",
        "print(mat4)\n",
        "mat5=mat1*mat2\n",
        "print(mat5)\n",
        "mat6=mat1.dot(mat2)\n",
        "print(6)"
      ],
      "metadata": {
        "colab": {
          "base_uri": "https://localhost:8080/"
        },
        "id": "PtmBcQA9Tv2-",
        "outputId": "2b9a0cdb-4f81-474a-9960-241155a17940"
      },
      "execution_count": null,
      "outputs": [
        {
          "output_type": "stream",
          "name": "stdout",
          "text": [
            "[[ 2  4  6]\n",
            " [ 8 10 12]\n",
            " [14 16 18]]\n",
            "[[0 0 0]\n",
            " [0 0 0]\n",
            " [0 0 0]]\n",
            "[[ 1  4  9]\n",
            " [16 25 36]\n",
            " [49 64 81]]\n",
            "6\n"
          ]
        }
      ]
    },
    {
      "cell_type": "markdown",
      "source": [
        "Pandas package\n",
        "data manipulation, handling, preprocessing"
      ],
      "metadata": {
        "id": "CfPBguZwU8Ii"
      }
    },
    {
      "cell_type": "code",
      "source": [
        "import pandas as pd\n",
        "data = pd.read_excel(\"/content/1907121.xlsx\")\n",
        "print(data)"
      ],
      "metadata": {
        "colab": {
          "base_uri": "https://localhost:8080/"
        },
        "id": "qjRF7q1uU9sS",
        "outputId": "10fab9d8-5b62-4d06-e0c9-260fd7d66c99"
      },
      "execution_count": null,
      "outputs": [
        {
          "output_type": "stream",
          "name": "stdout",
          "text": [
            "   Serial Name  Roll  CGPA\n",
            "0       1    A     1  3.45\n",
            "1       2    B     2  2.71\n",
            "2       3    C     4  3.42\n",
            "3       4    D     5  3.23\n",
            "4       5    E     3  2.89\n"
          ]
        }
      ]
    },
    {
      "cell_type": "markdown",
      "source": [
        "Plot with pandas\n",
        "(ctrl +space) for suggestion\n",
        "matplotlib for plotting"
      ],
      "metadata": {
        "id": "4mqK1BufXxEg"
      }
    },
    {
      "cell_type": "code",
      "source": [
        "data.plot(kind='line',x='Serial',y=\"CGPA\")"
      ],
      "metadata": {
        "colab": {
          "base_uri": "https://localhost:8080/",
          "height": 466
        },
        "id": "SuidQXb4Xyqk",
        "outputId": "0c84fd4b-f104-489f-b34f-e73a82a50fea"
      },
      "execution_count": null,
      "outputs": [
        {
          "output_type": "execute_result",
          "data": {
            "text/plain": [
              "<Axes: xlabel='Serial'>"
            ]
          },
          "metadata": {},
          "execution_count": 63
        },
        {
          "output_type": "display_data",
          "data": {
            "text/plain": [
              "<Figure size 640x480 with 1 Axes>"
            ],
            "image/png": "[encoded data removed]"
          },
          "metadata": {}
        }
      ]
    },
    {
      "cell_type": "markdown",
      "source": [
        "workbook\n",
        "xlxswriter, xlrd used by sir\n",
        "openpyxl, xlwings used by me"
      ],
      "metadata": {
        "id": "y0RZBv-KZY8O"
      }
    },
    {
      "cell_type": "code",
      "source": [
        "cgpa_column=data['CGPA']\n",
        "print(cgpa_column)\n",
        "# print()\n",
        "# print(cgpa_column.mean())"
      ],
      "metadata": {
        "colab": {
          "base_uri": "https://localhost:8080/"
        },
        "id": "_g_w3SvyfsKy",
        "outputId": "b1af6231-9a53-40ae-c0d9-92d19bff2723"
      },
      "execution_count": null,
      "outputs": [
        {
          "output_type": "stream",
          "name": "stdout",
          "text": [
            "0    3.45\n",
            "1    2.71\n",
            "2    3.42\n",
            "3    3.23\n",
            "4    2.89\n",
            "Name: CGPA, dtype: float64\n"
          ]
        }
      ]
    }
  ]
}