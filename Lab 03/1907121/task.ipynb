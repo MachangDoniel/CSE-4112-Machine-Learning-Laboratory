{
 "cells": [
  {
   "cell_type": "markdown",
   "metadata": {},
   "source": [
    "import neccessary librares"
   ]
  },
  {
   "cell_type": "code",
   "execution_count": 156,
   "metadata": {},
   "outputs": [],
   "source": [
    "import pandas as pd\n",
    "from openpyxl import Workbook\n",
    "import autograd.numpy as np\n",
    "from autograd import grad\n",
    "import matplotlib.pyplot as plt\n",
    "import os\n",
    "import glob\n",
    "import re"
   ]
  },
  {
   "cell_type": "markdown",
   "metadata": {},
   "source": [
    "get input from excel file named 'data.xlsx'\n",
    "there are 2 rows titled 'sentence' & 'class'"
   ]
  },
  {
   "cell_type": "code",
   "execution_count": 157,
   "metadata": {},
   "outputs": [
    {
     "name": "stdout",
     "output_type": "stream",
     "text": [
      "sentences: ['chinese beijing chinese' 'chinese chinese shanghai' 'chinese macao'\n",
      " 'tokyo japan macao']\n",
      "classes: ['c' 'c' 'c' 'j']\n"
     ]
    }
   ],
   "source": [
    "train = pd.read_excel('data.xlsx')\n",
    "sentences = train['sentence']\n",
    "sentences = np.array(sentences)\n",
    "classes = train['class']\n",
    "classes = np.array(classes)\n",
    "print('sentences:', sentences)\n",
    "print('classes:', classes)"
   ]
  },
  {
   "cell_type": "code",
   "execution_count": 158,
   "metadata": {},
   "outputs": [],
   "source": [
    "def count_word_frequency(sentence, sample):\n",
    "    words = sentence.split()\n",
    "    count = 0\n",
    "    for word in words:\n",
    "        if (word == sample):\n",
    "            count += 1\n",
    "    return count\n"
   ]
  },
  {
   "cell_type": "code",
   "execution_count": 159,
   "metadata": {},
   "outputs": [],
   "source": [
    "def count_word_frequency_in_sentences(sentences, sample):\n",
    "    count = 0\n",
    "    for sentence in sentences:\n",
    "        words = sentence.split()\n",
    "        for word in words:\n",
    "            if (word == sample):\n",
    "                count += 1\n",
    "    return count"
   ]
  },
  {
   "cell_type": "code",
   "execution_count": 160,
   "metadata": {},
   "outputs": [],
   "source": [
    "def count_unique_words(sentence):\n",
    "    words = sentence.split()    # Split the sentence into words array\n",
    "    num_words = len(words)\n",
    "    unique_words = []\n",
    "    prob = []\n",
    "    for word in words:\n",
    "        if word not in unique_words:\n",
    "            unique_words.append(word)\n",
    "            count = count_word_frequency(sentence, word)\n",
    "            probability = count / num_words\n",
    "            prob.append(probability)\n",
    "\n",
    "    print(prob)"
   ]
  },
  {
   "cell_type": "code",
   "execution_count": 161,
   "metadata": {},
   "outputs": [],
   "source": [
    "def count_unique_class(classes):\n",
    "    unique_class = []\n",
    "    for classs in classes:\n",
    "        if classs not in unique_class:\n",
    "            unique_class.append(classs)\n",
    "    return unique_class"
   ]
  },
  {
   "cell_type": "code",
   "execution_count": 162,
   "metadata": {},
   "outputs": [
    {
     "name": "stdout",
     "output_type": "stream",
     "text": [
      "Prior Prob:\n",
      "c :  3\n",
      "j :  1\n",
      "{'c': 0.75, 'j': 0.25}\n"
     ]
    }
   ],
   "source": [
    "unique_class = count_unique_class(classes)\n",
    "# print(unique_class)\n",
    "prior_prob = {}\n",
    "print(\"Prior Prob:\")\n",
    "for classs in unique_class:\n",
    "    count = 0\n",
    "    for i in range(len(classes)):\n",
    "        # print(classs, classes[i])\n",
    "        if(classs == classes[i]):\n",
    "            count += 1\n",
    "        \n",
    "    print(classs,\": \", count)\n",
    "    prior_prob[classs] = count/ len(classes)\n",
    "print(prior_prob)\n",
    "\n",
    "# for sentence in sentences:\n",
    "#     prob = count_unique_words(sentence)"
   ]
  },
  {
   "cell_type": "code",
   "execution_count": 163,
   "metadata": {},
   "outputs": [],
   "source": [
    "def find_all_unique_words(sentences, classs):\n",
    "    # print(\"sentences: \",sentences)\n",
    "    unique_words = []\n",
    "    for i in range(len(classes)):\n",
    "        # print(classs, classes[i])\n",
    "        if(classs == classes[i]):\n",
    "            words = sentences[i].split()\n",
    "            for word in words:\n",
    "                # print(sentences[i], word)\n",
    "                if word not in unique_words:\n",
    "                    unique_words.append(word)\n",
    "    print(unique_words)\n",
    "    return unique_words"
   ]
  },
  {
   "cell_type": "code",
   "execution_count": 166,
   "metadata": {},
   "outputs": [
    {
     "name": "stdout",
     "output_type": "stream",
     "text": [
      "Conditional Prob:\n",
      "['chinese', 'beijing', 'shanghai', 'macao']\n",
      "chinese 5\n",
      "beijing 6\n",
      "shanghai 7\n",
      "macao 8\n",
      "['tokyo', 'japan', 'macao']\n",
      "tokyo 1\n",
      "japan 2\n",
      "macao 3\n"
     ]
    }
   ],
   "source": [
    "conditional_prob = {}\n",
    "print(\"Conditional Prob:\")\n",
    "for classs in unique_class:\n",
    "    count = 0\n",
    "    all_unique_words = find_all_unique_words(sentences,classs)\n",
    "    for word in all_unique_words:\n",
    "        for i in range(len(classes)):\n",
    "            if(classs == classes[i]):\n",
    "                count += count_word_frequency(sentences[i],word)\n",
    "        print(word, count)"
   ]
  }
 ],
 "metadata": {
  "kernelspec": {
   "display_name": "Python 3",
   "language": "python",
   "name": "python3"
  },
  "language_info": {
   "codemirror_mode": {
    "name": "ipython",
    "version": 3
   },
   "file_extension": ".py",
   "mimetype": "text/x-python",
   "name": "python",
   "nbconvert_exporter": "python",
   "pygments_lexer": "ipython3",
   "version": "3.11.4"
  }
 },
 "nbformat": 4,
 "nbformat_minor": 2
}
