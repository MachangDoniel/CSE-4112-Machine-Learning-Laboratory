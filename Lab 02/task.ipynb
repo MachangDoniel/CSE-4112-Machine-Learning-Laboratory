{
 "cells": [
  {
   "cell_type": "markdown",
   "metadata": {},
   "source": [
    "import neccessary librares"
   ]
  },
  {
   "cell_type": "code",
   "execution_count": 1,
   "metadata": {},
   "outputs": [],
   "source": [
    "import pandas as pd\n",
    "from openpyxl import Workbook\n",
    "import autograd.numpy as np\n",
    "from autograd import grad\n",
    "import matplotlib.pyplot as plt\n",
    "import os\n",
    "import glob\n",
    "import re\n",
    "from PIL import Image\n",
    "import imageio"
   ]
  },
  {
   "cell_type": "markdown",
   "metadata": {},
   "source": [
    "get input from excel file named 'data.xlsx'\n",
    "there are 2 row 'x' & 'y'"
   ]
  },
  {
   "cell_type": "code",
   "execution_count": 2,
   "metadata": {},
   "outputs": [
    {
     "name": "stdout",
     "output_type": "stream",
     "text": [
      "x: [ 1  2  3  4  5  6  7  8  9 10]\n",
      "y: [ 2  4  6  8 10 12 14 16 18 20]\n"
     ]
    }
   ],
   "source": [
    "train = pd.read_excel('data.xlsx')\n",
    "x = train['x']\n",
    "x = np.array(x)\n",
    "y = train['y']\n",
    "y = np.array(y)\n",
    "print('x:', x)\n",
    "print('y:', y)"
   ]
  },
  {
   "cell_type": "markdown",
   "metadata": {},
   "source": [
    "define loss function loss_function, J = (Yactual-Ypredicted)^2\n",
    "where, Yactual is taken from the dataset(data.xlsx) & \n",
    "Ypredicted is predicted using w & b (Ypredicted = w * x + b)"
   ]
  },
  {
   "cell_type": "code",
   "execution_count": 3,
   "metadata": {},
   "outputs": [],
   "source": [
    "def loss_function(w, b, x, y):\n",
    "    return np.square(y - (w * x + b))"
   ]
  },
  {
   "cell_type": "markdown",
   "metadata": {},
   "source": [
    "genereate djBydw, djBydb, loss for each data"
   ]
  },
  {
   "cell_type": "code",
   "execution_count": 4,
   "metadata": {},
   "outputs": [],
   "source": [
    "def generateFun(w, b):\n",
    "    djBydw = 0\n",
    "    djBydb = 0\n",
    "    loss = 0\n",
    "    for xi, yi in zip(x, y):\n",
    "        djdw = grad(loss_function, 0)\n",
    "        djBydw += djdw(w, b, xi, yi)\n",
    "        djdb = grad(loss_function, 1)\n",
    "        djBydb += djdb(w, b, xi, yi)\n",
    "        loss += loss_function(w, b, xi, yi)\n",
    "        # print(djBydw)\n",
    "        # print(djBydb)\n",
    "        # print(loss)\n",
    "    return djBydw, djBydb, loss"
   ]
  },
  {
   "cell_type": "markdown",
   "metadata": {},
   "source": [
    "create 'output.xlsx' to store loss values for each iteration\n",
    "create images folder to store the images created in each iteration"
   ]
  },
  {
   "cell_type": "code",
   "execution_count": 5,
   "metadata": {},
   "outputs": [],
   "source": [
    "iteration = 1000\n",
    "wb = Workbook()\n",
    "wb.save(\"output.xlsx\")\n",
    "os.makedirs(\"images\", exist_ok=True)"
   ]
  },
  {
   "cell_type": "markdown",
   "metadata": {},
   "source": [
    "define GIF generating function from images"
   ]
  },
  {
   "cell_type": "code",
   "execution_count": 6,
   "metadata": {},
   "outputs": [],
   "source": [
    "def generateGIF(folder):\n",
    "    # Define the input and output file paths\n",
    "    fp_in = f\"{folder}\\\\*.png\"\n",
    "    fp_out = \"output.gif\"\n",
    "\n",
    "    # Define a function for natural sorting\n",
    "    natsort = lambda s: [int(t) if t.isdigit() else t.lower() for t in re.split('(\\d+)', s)]\n",
    "\n",
    "    # Get a list of image file paths sorted by their natural order\n",
    "    img_files = sorted(glob.glob(fp_in), key=natsort)\n",
    "\n",
    "    # Open the first image and extract the rest of the images\n",
    "    img, *imgs = [Image.open(f) for f in img_files]\n",
    "\n",
    "    # Save the images as a GIF\n",
    "    img.save(fp=fp_out, format='GIF', append_images=imgs,\n",
    "             save_all=True, duration=200, loop=0)\n",
    "\n",
    "    print(\"GIF created successfully!\")\n"
   ]
  },
  {
   "cell_type": "markdown",
   "metadata": {},
   "source": [
    "set initial w & b,\n",
    "set learning rate\n",
    "iterate 1000 times & store the images of predicted line at 'images' directory"
   ]
  },
  {
   "cell_type": "code",
   "execution_count": 7,
   "metadata": {},
   "outputs": [
    {
     "data": {
      "image/png": "[encoded data removed]",
      "text/plain": [
       "<Figure size 640x480 with 1 Axes>"
      ]
     },
     "metadata": {},
     "output_type": "display_data"
    }
   ],
   "source": [
    "w = 0.05\n",
    "b = 0.025\n",
    "learning_rate = 0.001\n",
    "output = pd.read_excel('output.xlsx')\n",
    "loss_values = []\n",
    "iteration_no = []\n",
    "\n",
    "plt.scatter(x, y, color='r', label='Main Line')\n",
    "aux_line, = plt.plot([], [], marker='o', linestyle='-', color='b', label='Line')\n",
    "for i in range(iteration):\n",
    "    djBydw ,djBydb, loss = generateFun(w,b)\n",
    "    w = w - (learning_rate * djBydw)\n",
    "    b = b - (learning_rate * djBydb)\n",
    "    # print(w)\n",
    "    # print(b)\n",
    "    if (i%100 == 0):    # storing images after each 100 iteration as 1000 images is time consuming and the effects of change seems not clear\n",
    "        Ypredicted = w * x + b\n",
    "        aux_line.set_data(x, Ypredicted)\n",
    "        plt.savefig(f'images/{i}.png',dpi=300)\n",
    "\n",
    "    iteration_no.append(i)\n",
    "    loss_values.append(loss)\n",
    "\n",
    "output['iteration_no'] = iteration_no\n",
    "output['loss_values'] = loss_values\n",
    "output.to_excel('output.xlsx', index=False)\n",
    "\n",
    "# Create a DataFrame with iteration numbers and loss values as separate columns\n",
    "# data = {'iteration_no': iteration_no, 'loss_values': loss_values}\n",
    "# output = pd.DataFrame(data)\n"
   ]
  },
  {
   "cell_type": "code",
   "execution_count": 8,
   "metadata": {},
   "outputs": [
    {
     "name": "stdout",
     "output_type": "stream",
     "text": [
      "GIF created successfully!\n"
     ]
    }
   ],
   "source": [
    "generateGIF('images')"
   ]
  }
 ],
 "metadata": {
  "kernelspec": {
   "display_name": "Python 3",
   "language": "python",
   "name": "python3"
  },
  "language_info": {
   "codemirror_mode": {
    "name": "ipython",
    "version": 3
   },
   "file_extension": ".py",
   "mimetype": "text/x-python",
   "name": "python",
   "nbconvert_exporter": "python",
   "pygments_lexer": "ipython3",
   "version": "3.11.4"
  }
 },
 "nbformat": 4,
 "nbformat_minor": 2
}
